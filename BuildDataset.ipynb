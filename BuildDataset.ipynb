{
  "nbformat": 4,
  "nbformat_minor": 0,
  "metadata": {
    "colab": {
      "provenance": [],
      "authorship_tag": "ABX9TyPsmniU7xWjSR6eYiIu2NbT",
      "include_colab_link": true
    },
    "kernelspec": {
      "name": "python3",
      "display_name": "Python 3"
    },
    "language_info": {
      "name": "python"
    }
  },
  "cells": [
    {
      "cell_type": "markdown",
      "metadata": {
        "id": "view-in-github",
        "colab_type": "text"
      },
      "source": [
        "<a href=\"https://colab.research.google.com/github/siting1206/Plant_seedlings_classification/blob/main/BuildDataset.ipynb\" target=\"_parent\"><img src=\"https://colab.research.google.com/assets/colab-badge.svg\" alt=\"Open In Colab\"/></a>"
      ]
    },
    {
      "cell_type": "code",
      "execution_count": null,
      "metadata": {
        "id": "PKIPAaFIBHm3"
      },
      "outputs": [],
      "source": [
        "from torchvision.datasets import ImageFolder\n",
        "import torch\n",
        "from torchvision import transforms\n",
        "\n",
        "def get_mean_and_std(train_data):\n",
        "    train_loader = torch.utils.data.DataLoader(\n",
        "            train_data, batch_size=1, shuffle=False, num_workers=0,\n",
        "            pin_memory=True)\n",
        "    mean = torch.zeros(3)\n",
        "    std = torch.zeros(3)\n",
        "    for X,_ in train_loader:\n",
        "        for d in range(3):\n",
        "            mean[d] += X[:, d, :, :].mean()\n",
        "            std[d] += X[:, d, :, :].std()\n",
        "    mean.div_(len(train_data))\n",
        "    std.div_(len(train_data))\n",
        "    return list(mean.numpy()), list(std.numpy())\n",
        "\n",
        "if __name__ == '__main__':\n",
        "    train_dataset = ImageFolder(root=r'plant-seedlings-classification/train', transform = transforms.ToTensor())\n",
        "    print(get_mean_and_std(train_dataset))\n",
        "\n",
        "import glob\n",
        "import os\n",
        "import shutil\n",
        "image_list = glob.glob('plant-seedlings-classification/train/*/*.png')\n",
        "#print(image_list)\n",
        "file_dir='data'\n",
        "if os.path.exists(file_dir):\n",
        "    print('true')\n",
        "    shutil.rmtree(file_dir)\n",
        "    os.makedirs(file_dir)\n",
        "else:\n",
        "    os.makedirs(file_dir)\n",
        "\n",
        "from sklearn.model_selection import train_test_split\n",
        "trainval_files, val_files = train_test_split(image_list, test_size=0.3, random_state=42)\n",
        "train_dir = 'train'\n",
        "val_dir = 'val'\n",
        "train_root=os.path.join(file_dir, train_dir)\n",
        "val_root=os.path.join(file_dir, val_dir)\n",
        "for file in trainval_files:\n",
        "    file_class=file.replace(\"\\\\\",\"/\").split('/')[-2]\n",
        "    file_name=file.replace(\"\\\\\",\"/\").split('/')[-1]\n",
        "    file_class=os.path.join(train_root, file_class)\n",
        "    if not os.path.isdir(file_class):\n",
        "        os.makedirs(file_class)\n",
        "    shutil.copy(file, file_class + '/' + file_name)\n",
        "\n",
        "for file in val_files:\n",
        "    file_class=file.replace(\"\\\\\",\"/\").split('/')[-2]\n",
        "    file_name=file.replace(\"\\\\\",\"/\").split('/')[-1]\n",
        "    file_class=os.path.join(val_root, file_class)\n",
        "    if not os.path.isdir(file_class):\n",
        "        os.makedirs(file_class)\n",
        "    shutil.copy(file, file_class + '/' + file_name)\n",
        "\n"
      ]
    }
  ]
}