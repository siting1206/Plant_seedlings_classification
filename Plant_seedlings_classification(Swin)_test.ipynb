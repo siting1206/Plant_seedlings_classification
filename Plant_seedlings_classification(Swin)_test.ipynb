{
  "nbformat": 4,
  "nbformat_minor": 0,
  "metadata": {
    "colab": {
      "provenance": [],
      "authorship_tag": "ABX9TyPZGrkLw0FeB+w9Pdd9pt/G",
      "include_colab_link": true
    },
    "kernelspec": {
      "name": "python3",
      "display_name": "Python 3"
    },
    "language_info": {
      "name": "python"
    }
  },
  "cells": [
    {
      "cell_type": "markdown",
      "metadata": {
        "id": "view-in-github",
        "colab_type": "text"
      },
      "source": [
        "<a href=\"https://colab.research.google.com/github/siting1206/Plant_seedlings_classification/blob/main/Plant_seedlings_classification(Swin)_test.ipynb\" target=\"_parent\"><img src=\"https://colab.research.google.com/assets/colab-badge.svg\" alt=\"Open In Colab\"/></a>"
      ]
    },
    {
      "cell_type": "code",
      "execution_count": null,
      "metadata": {
        "id": "Zg3IjdyxAAAD"
      },
      "outputs": [],
      "source": [
        "import torch.utils.data.distributed\n",
        "import torchvision.transforms as transforms\n",
        "from PIL import Image\n",
        "from torch.autograd import Variable\n",
        "import os\n",
        "import pandas as pd\n",
        "\n",
        "classes = ('Black-grass', 'Charlock', 'Cleavers', 'Common Chickweed',\n",
        "           'Common wheat', 'Fat Hen', 'Loose Silky-bent',\n",
        "           'Maize', 'Scentless Mayweed', 'Shepherds Purse', 'Small-flowered Cranesbill', 'Sugar beet')\n",
        "transform_test = transforms.Compose([\n",
        "    transforms.Resize((256, 256)),\n",
        "    transforms.ToTensor(),\n",
        "    transforms.Normalize(mean=[0.51819474, 0.5250407, 0.4945761], std=[0.24228974, 0.24347611, 0.2530049])\n",
        "])\n",
        "\n",
        "DEVICE = torch.device(\"cuda:0\" if torch.cuda.is_available() else \"cpu\")\n",
        "model=torch.load('checkpoints/SwinV2/best.pth')\n",
        "model.eval()\n",
        "model.to(DEVICE)\n",
        "\n",
        "test_name, pred_name = [], []\n",
        "path = 'plant-seedlings-classification/test/'\n",
        "testList = os.listdir(path)\n",
        "for file in testList:\n",
        "    img = Image.open(path + file)\n",
        "    img = transform_test(img)\n",
        "    img.unsqueeze_(0)\n",
        "    img = Variable(img).to(DEVICE)\n",
        "    out = model(img)\n",
        "    # Predict\n",
        "    _, pred = torch.max(out.data, 1)\n",
        "    test_name.append(file)\n",
        "    pred_name.append(classes[pred.data.item()])\n",
        "    # print('Image Name:{},predict:{}'.format(file, classes[pred.data.item()]))\n",
        "print(\"Number of test images : \", len(test_name))\n",
        "\n",
        "results = pd.DataFrame({\"file\":test_name, \"species\":pred_name})\n",
        "\n",
        "results.head()\n",
        "\n",
        "results.to_csv(\"submission_swin.csv\",index=False)"
      ]
    }
  ]
}